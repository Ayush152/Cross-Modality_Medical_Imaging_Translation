{
 "cells": [
  {
   "cell_type": "code",
   "execution_count": null,
   "metadata": {},
   "outputs": [],
   "source": [
    "import torch\n",
    "import torch.nn as nn\n",
    "from torch.utils.data import Dataset, DataLoader\n",
    "import torch.nn.functional as F\n",
    "from preprocessing import train_loader, train_dataset"
   ]
  },
  {
   "cell_type": "code",
   "execution_count": null,
   "metadata": {},
   "outputs": [],
   "source": [
    "# Define the architecture for the shared encoder\n",
    "class SharedEncoder(nn.Module):\n",
    "    def __init__(self, final_image_size, latent_dim):\n",
    "        super(SharedEncoder, self).__init__()\n",
    "        self.conv1 = nn.Conv2d(in_channels=3, out_channels=64, kernel_size=3, stride=2, padding=1)\n",
    "        self.conv2 = nn.Conv2d(in_channels=64, out_channels=128, kernel_size=3, stride=2, padding=1)\n",
    "        self.conv3 = nn.Conv2d(in_channels=128, out_channels=256, kernel_size=3, stride=2, padding=1)\n",
    "        self.fc = nn.Linear(256 * final_image_size * final_image_size, latent_dim)\n",
    "        self.final_image_size = final_image_size\n",
    "        self.latent_dim = latent_dim\n",
    "\n",
    "    def forward(self, x):\n",
    "        x = F.relu(self.conv1(x))\n",
    "        x = F.relu(self.conv2(x))\n",
    "        x = F.relu(self.conv3(x))\n",
    "        x = x.view(x.size(0), -1)\n",
    "        encoded_features = self.fc(x)\n",
    "        return encoded_features"
   ]
  },
  {
   "cell_type": "code",
   "execution_count": null,
   "metadata": {},
   "outputs": [],
   "source": [
    "# Define the architecture for the shared decoder\n",
    "class SharedDecoder(nn.Module):\n",
    "    def __init__(self, final_image_size, latent_dim):\n",
    "        super(SharedDecoder, self).__init__()\n",
    "        self.fc = nn.Linear(latent_dim, 256 * final_image_size * final_image_size)\n",
    "        self.conv3 = nn.ConvTranspose2d(in_channels=256, out_channels=128, kernel_size=3, stride=2, padding=1, output_padding=1)\n",
    "        self.conv2 = nn.ConvTranspose2d(in_channels=128, out_channels=64, kernel_size=3, stride=2, padding=1, output_padding=1)\n",
    "        self.conv1 = nn.ConvTranspose2d(in_channels=64, out_channels=3, kernel_size=3, stride=2, padding=1, output_padding=1)\n",
    "        self.final_image_size = final_image_size\n",
    "\n",
    "    def forward(self, x):\n",
    "        x = self.fc(x)\n",
    "        x = x.view(x.size(0), 256, self.final_image_size, self.final_image_size)\n",
    "        x = F.relu(self.conv3(x))\n",
    "        x = F.relu(self.conv2(x))\n",
    "        decoded_image = torch.sigmoid(self.conv1(x))\n",
    "        return decoded_image\n"
   ]
  },
  {
   "cell_type": "code",
   "execution_count": null,
   "metadata": {},
   "outputs": [],
   "source": [
    "# Define the cINN model\n",
    "class ConditionalINN(nn.Module):\n",
    "    def __init__(self, final_image_size, latent_dim):\n",
    "        super(ConditionalINN, self).__init__()\n",
    "        self.shared_encoder = SharedEncoder(final_image_size, latent_dim)\n",
    "        self.shared_decoder = SharedDecoder(final_image_size, latent_dim)\n",
    "\n",
    "    def forward(self, x, direction):\n",
    "        encoded_features = self.shared_encoder(x)\n",
    "        noise = torch.randn_like(encoded_features)\n",
    "        combined_input = torch.cat((encoded_features, noise), dim=1)\n",
    "        generated_image = self.shared_decoder(combined_input)\n",
    "        return generated_image\n"
   ]
  },
  {
   "cell_type": "code",
   "execution_count": null,
   "metadata": {},
   "outputs": [],
   "source": [
    "# Instantiate the cINN model\n",
    "final_image_size = 256 # ...  # Set the image size after convolutions\n",
    "latent_dim = 256 # ...  # Set the desired latent dimension\n",
    "cinn = ConditionalINN(final_image_size, latent_dim)"
   ]
  },
  {
   "cell_type": "code",
   "execution_count": null,
   "metadata": {},
   "outputs": [],
   "source": [
    "# Define training loop\n",
    "def train_epoch(model, dataloader, optimizer, criterion):\n",
    "    model.train()\n",
    "    for batch_mri, batch_ct in dataloader:\n",
    "        optimizer.zero_grad()\n",
    "\n",
    "        # Perform MRI-to-CT translation\n",
    "        generated_ct = model(batch_mri, direction=0)\n",
    "\n",
    "        # Calculate the loss (e.g., reconstruction loss)\n",
    "        loss = criterion(generated_ct, batch_ct)\n",
    "\n",
    "        # Backpropagation and optimization\n",
    "        loss.backward()\n",
    "        optimizer.step()"
   ]
  },
  {
   "cell_type": "code",
   "execution_count": null,
   "metadata": {},
   "outputs": [],
   "source": [
    "# Define training parameters\n",
    "epochs = 50\n",
    "learning_rate = 0.001\n",
    "criterion = nn.MSELoss()\n",
    "optimizer = torch.optim.Adam(cinn.parameters(), lr=learning_rate)\n"
   ]
  },
  {
   "cell_type": "code",
   "execution_count": null,
   "metadata": {},
   "outputs": [],
   "source": [
    "# Training loop\n",
    "for epoch in range(epochs):\n",
    "    train_epoch(cinn, train_loader, optimizer, criterion)\n",
    "    print(f\"Epoch [{epoch+1}/{epochs}] completed\")\n",
    "\n"
   ]
  },
  {
   "cell_type": "code",
   "execution_count": null,
   "metadata": {},
   "outputs": [],
   "source": [
    "# After training, you can use the cINN model to perform translation\n",
    "input_mri = \"dataset/images/trainB/mri12.jpg\"  # Load or generate an input MRI image for inference\n",
    "generated_ct = cinn(input_mri, direction=0)  # Perform MRI-to-CT translation"
   ]
  },
  {
   "cell_type": "code",
   "execution_count": null,
   "metadata": {},
   "outputs": [],
   "source": [
    "# You can use or save the 'generated_ct' image as needed\n",
    "# save the generated image in the new output folder\n",
    "import os\n",
    "import matplotlib.pyplot as plt\n",
    "import numpy as np\n",
    "from PIL import Image\n",
    "from torchvision.utils import save_image"
   ]
  },
  {
   "cell_type": "code",
   "execution_count": null,
   "metadata": {},
   "outputs": [],
   "source": [
    "# create the output folder\n",
    "output_folder = \"output\"\n",
    "if not os.path.exists(output_folder):\n",
    "    os.makedirs(output_folder)\n",
    "\n",
    "# save the generated image\n",
    "save_image(generated_ct, os.path.join(output_folder, \"generated_ct.png\"))"
   ]
  }
 ],
 "metadata": {
  "kernelspec": {
   "display_name": "BTP",
   "language": "python",
   "name": "python3"
  },
  "language_info": {
   "name": "python",
   "version": "3.11.4"
  },
  "orig_nbformat": 4
 },
 "nbformat": 4,
 "nbformat_minor": 2
}
