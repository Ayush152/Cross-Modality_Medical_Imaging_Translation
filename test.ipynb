{
 "cells": [
  {
   "cell_type": "code",
   "execution_count": 11,
   "metadata": {},
   "outputs": [
    {
     "name": "stdout",
     "output_type": "stream",
     "text": [
      "The image is not in RGB format.\n"
     ]
    }
   ],
   "source": [
    "from PIL import Image\n",
    "\n",
    "# Open the image\n",
    "img = Image.open(\"dataset/images/testA/ct8.png\")\n",
    "\n",
    "# Check if the image has an \"RGB\" mode\n",
    "if img.mode == \"RGB\":\n",
    "    print(\"The image is in RGB format.\")\n",
    "else:\n",
    "    print(\"The image is not in RGB format.\")\n"
   ]
  },
  {
   "cell_type": "code",
   "execution_count": 17,
   "metadata": {},
   "outputs": [],
   "source": [
    "from torchvision import transforms\n",
    "import numpy as np\n",
    "\n",
    "grayscale = img.resize((256,256)).convert(\"L\") \n",
    "grayscale = transforms.ToTensor()(grayscale)\n",
    "\n",
    "# array = np.array(grayscale)\n",
    "# normi = [image / 255.0 for image in array]\n",
    "normi = grayscale/255.0\n",
    "normi2 = normi*255.0\n"
   ]
  },
  {
   "cell_type": "code",
   "execution_count": 18,
   "metadata": {},
   "outputs": [],
   "source": [
    "import os\n",
    "from PIL import Image\n",
    "from torchvision.utils import save_image\n",
    "\n",
    "# create the output folder\n",
    "output_folder = \"outputTest\"\n",
    "if not os.path.exists(output_folder):\n",
    "    os.makedirs(output_folder)\n",
    "\n",
    "# save the generated image\n",
    "save_image(grayscale, os.path.join(output_folder, \"generated_ct.png\"))\n",
    "save_image(normi2, os.path.join(output_folder, \"normi2.png\"))"
   ]
  }
 ],
 "metadata": {
  "kernelspec": {
   "display_name": "pytorch",
   "language": "python",
   "name": "python3"
  },
  "language_info": {
   "codemirror_mode": {
    "name": "ipython",
    "version": 3
   },
   "file_extension": ".py",
   "mimetype": "text/x-python",
   "name": "python",
   "nbconvert_exporter": "python",
   "pygments_lexer": "ipython3",
   "version": "3.10.12"
  },
  "orig_nbformat": 4
 },
 "nbformat": 4,
 "nbformat_minor": 2
}
